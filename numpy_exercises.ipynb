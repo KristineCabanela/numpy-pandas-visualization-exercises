{
 "cells": [
  {
   "cell_type": "markdown",
   "id": "9454d980",
   "metadata": {},
   "source": [
    "# Numpy Exercises"
   ]
  },
  {
   "cell_type": "code",
   "execution_count": 1,
   "id": "30fee56f",
   "metadata": {},
   "outputs": [],
   "source": [
    "import numpy as np"
   ]
  },
  {
   "cell_type": "code",
   "execution_count": 2,
   "id": "eb15feb9",
   "metadata": {},
   "outputs": [],
   "source": [
    "a = np.array([4, 10, 12, 23, -2, -1, 0, 0, 0, -6, 3, -7])"
   ]
  },
  {
   "cell_type": "markdown",
   "id": "e5963fd9",
   "metadata": {},
   "source": [
    "1. How many negative numbers are there?"
   ]
  },
  {
   "cell_type": "code",
   "execution_count": 3,
   "id": "2e4fcf16",
   "metadata": {},
   "outputs": [],
   "source": [
    "negative_numbers = a[a < 0]"
   ]
  },
  {
   "cell_type": "code",
   "execution_count": 4,
   "id": "bd20e2e2",
   "metadata": {},
   "outputs": [
    {
     "name": "stdout",
     "output_type": "stream",
     "text": [
      "[-2 -1 -6 -7]\n"
     ]
    }
   ],
   "source": [
    "print(negative_numbers)"
   ]
  },
  {
   "cell_type": "code",
   "execution_count": 5,
   "id": "765f87f2",
   "metadata": {},
   "outputs": [
    {
     "data": {
      "text/plain": [
       "4"
      ]
     },
     "execution_count": 5,
     "metadata": {},
     "output_type": "execute_result"
    }
   ],
   "source": [
    "len(negative_numbers)"
   ]
  },
  {
   "cell_type": "markdown",
   "id": "578fb989",
   "metadata": {},
   "source": [
    "2. How many positive numbers are there?"
   ]
  },
  {
   "cell_type": "code",
   "execution_count": 6,
   "id": "9f4c69e5",
   "metadata": {},
   "outputs": [
    {
     "name": "stdout",
     "output_type": "stream",
     "text": [
      "[ 4 10 12 23  3]\n"
     ]
    },
    {
     "data": {
      "text/plain": [
       "5"
      ]
     },
     "execution_count": 6,
     "metadata": {},
     "output_type": "execute_result"
    }
   ],
   "source": [
    "positive_numbers = a[a > 0]\n",
    "print(positive_numbers)\n",
    "len(positive_numbers)"
   ]
  },
  {
   "cell_type": "markdown",
   "id": "e8f6ca6b",
   "metadata": {},
   "source": [
    "3. How many even positive numbers are there?"
   ]
  },
  {
   "cell_type": "code",
   "execution_count": 7,
   "id": "9bc2b77f",
   "metadata": {},
   "outputs": [
    {
     "name": "stdout",
     "output_type": "stream",
     "text": [
      "[ 4 10 12]\n"
     ]
    },
    {
     "data": {
      "text/plain": [
       "3"
      ]
     },
     "execution_count": 7,
     "metadata": {},
     "output_type": "execute_result"
    }
   ],
   "source": [
    "positive_numbers = a > 0\n",
    "\n",
    "positives = a[positive_numbers]\n",
    "\n",
    "even_numbers = positives % 2 == 0\n",
    "\n",
    "positive_even_numbers = positives[even_numbers]\n",
    "\n",
    "print(positive_even_numbers)\n",
    "len(positive_even_numbers)"
   ]
  },
  {
   "cell_type": "markdown",
   "id": "d98a80e7",
   "metadata": {},
   "source": [
    "4. If you were to add 3 to each data point, how many positive numbers would there be?"
   ]
  },
  {
   "cell_type": "code",
   "execution_count": 8,
   "id": "8c07c334",
   "metadata": {},
   "outputs": [
    {
     "name": "stdout",
     "output_type": "stream",
     "text": [
      "[ 7 13 15 26  1  2  3  3  3  6]\n"
     ]
    },
    {
     "data": {
      "text/plain": [
       "10"
      ]
     },
     "execution_count": 8,
     "metadata": {},
     "output_type": "execute_result"
    }
   ],
   "source": [
    "a += 3\n",
    "my_array = a[a > 0]\n",
    "print(my_array)\n",
    "len(my_array)"
   ]
  },
  {
   "cell_type": "markdown",
   "id": "00ddcf81",
   "metadata": {},
   "source": [
    "5. If you squared each number, what would the new mean and standard deviation be?"
   ]
  },
  {
   "cell_type": "code",
   "execution_count": null,
   "id": "992e32e4",
   "metadata": {},
   "outputs": [],
   "source": []
  }
 ],
 "metadata": {
  "kernelspec": {
   "display_name": "Python 3",
   "language": "python",
   "name": "python3"
  },
  "language_info": {
   "codemirror_mode": {
    "name": "ipython",
    "version": 3
   },
   "file_extension": ".py",
   "mimetype": "text/x-python",
   "name": "python",
   "nbconvert_exporter": "python",
   "pygments_lexer": "ipython3",
   "version": "3.8.8"
  }
 },
 "nbformat": 4,
 "nbformat_minor": 5
}
